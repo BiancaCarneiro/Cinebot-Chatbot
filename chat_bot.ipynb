{
 "cells": [
  {
   "cell_type": "markdown",
   "metadata": {},
   "source": [
    "### **1.Definir o Escopo do Chatbot**\n",
    "\n",
    "Determine as principais funcionalidades e objetivos do chatbot. Ele fornecerá recomendações de filmes, informações sobre filmes específicos, ou realizará outras tarefas relacionadas a filmes?\n",
    "\n",
    "Nosso chatbot vai ser capaz de identificar as seguintes inteções e responder elas: <br>\n",
    "    1. Assistir filme <br>\n",
    "    2. Comprar ingresso <br>\n",
    "    3. Querer saber detalhes de um filme específico <br>\n",
    "    4. Checar as sessões de um filme específico <br>"
   ]
  },
  {
   "cell_type": "markdown",
   "metadata": {},
   "source": [
    "### **2.Coletânea de dados**\n",
    "Coletar e entender os datasets reunidos"
   ]
  },
  {
   "cell_type": "code",
   "execution_count": 2,
   "metadata": {},
   "outputs": [],
   "source": [
    "import pandas as pd\n",
    "# origem do dataset : https://github.com/google-research-datasets/ccpe/tree/main\n",
    "df_conversations = pd.read_json('datasets\\data.json')"
   ]
  },
  {
   "cell_type": "markdown",
   "metadata": {},
   "source": [
    "#### Anotações imporatantes de cada label desse dataset<br>\n",
    "<br>\n",
    "ENTITY_NAME: These mark the names of relevant entities mentioned. <br>\n",
    "ENTITY_PREFERENCE: These are defined as statements indicating that the dialog participant does or does not like the relevant entity in general, or that they do or do not like some aspect of the entity. This may also be thought of the participant having some sentiment about what is being discussed. <br>\n",
    "ENTITY_DESCRIPTION: Neutral descriptions that describe an entity but do not convey an explicit liking or disliking. <br>\n",
    "ENTITY_OTHER: Other relevant statements about an entity that convey relevant information of how the participant relates to the entity but do not provide a sentiment. Most often, these relate to whether a participant has seen a particular movie, or knows a lot about a given entity. <br>"
   ]
  },
  {
   "cell_type": "code",
   "execution_count": 3,
   "metadata": {},
   "outputs": [
    {
     "name": "stdout",
     "output_type": "stream",
     "text": [
      "Número de conversas: 502\n",
      "\n",
      "Primeira conversa:\n",
      "conversationId                                           CCPE-8e113\n",
      "utterances        [{'index': 0, 'speaker': 'ASSISTANT', 'text': ...\n",
      "Name: 0, dtype: object\n",
      "\n",
      "ID da primeira conversa: CCPE-8e113\n",
      "\n",
      "Número de utterances na primeira conversa: 43\n",
      "\n",
      "Texto da primeira utterance: generally speaking what type of movies do you watch\n",
      "\n",
      "Texto da segunda utterance: I like thrillers a lot.\n",
      "Entidades anotadas na segunda utterance:\n",
      "Texto: thrillers, Entidades: [{'annotationType': 'ENTITY_NAME', 'entityType': 'MOVIE_GENRE_OR_CATEGORY'}]\n",
      "Texto: I like thrillers a lot, Entidades: [{'annotationType': 'ENTITY_PREFERENCE', 'entityType': 'MOVIE_GENRE_OR_CATEGORY'}]\n"
     ]
    }
   ],
   "source": [
    "print(\"Número de conversas:\", len(df_conversations))\n",
    "print(\"\\nPrimeira conversa:\")\n",
    "print(df_conversations.iloc[0])\n",
    "\n",
    "\n",
    "conversation_id = df_conversations.iloc[0]['conversationId']\n",
    "print(\"\\nID da primeira conversa:\", conversation_id)\n",
    "\n",
    "utterances = df_conversations.iloc[0]['utterances']\n",
    "print(\"\\nNúmero de utterances na primeira conversa:\", len(utterances))\n",
    "\n",
    "# Acessando a primeira utterance\n",
    "text_utterance_1 = utterances[0]['text']\n",
    "print(\"\\nTexto da primeira utterance:\", text_utterance_1)\n",
    "\n",
    "# Segunda instância\n",
    "text_utterance_2 = utterances[1]['text']\n",
    "segments_utterance_2 = utterances[1]['segments']\n",
    "\n",
    "print(\"\\nTexto da segunda utterance:\", text_utterance_2)\n",
    "print(\"Entidades anotadas na segunda utterance:\")\n",
    "for segment in segments_utterance_2:\n",
    "    annotated_text = segment['text']\n",
    "    entities = segment['annotations']\n",
    "    print(f\"Texto: {annotated_text}, Entidades: {entities}\")"
   ]
  },
  {
   "cell_type": "code",
   "execution_count": 5,
   "metadata": {},
   "outputs": [
    {
     "data": {
      "text/html": [
       "<div>\n",
       "<style scoped>\n",
       "    .dataframe tbody tr th:only-of-type {\n",
       "        vertical-align: middle;\n",
       "    }\n",
       "\n",
       "    .dataframe tbody tr th {\n",
       "        vertical-align: top;\n",
       "    }\n",
       "\n",
       "    .dataframe thead th {\n",
       "        text-align: right;\n",
       "    }\n",
       "</style>\n",
       "<table border=\"1\" class=\"dataframe\">\n",
       "  <thead>\n",
       "    <tr style=\"text-align: right;\">\n",
       "      <th></th>\n",
       "      <th>Unnamed: 0</th>\n",
       "      <th>index</th>\n",
       "      <th>tconst</th>\n",
       "      <th>titleType</th>\n",
       "      <th>primaryTitle</th>\n",
       "      <th>originalTitle</th>\n",
       "      <th>isAdult</th>\n",
       "      <th>startYear</th>\n",
       "      <th>endYear</th>\n",
       "      <th>runtimeMinutes</th>\n",
       "      <th>...</th>\n",
       "      <th>averageRating</th>\n",
       "      <th>numVotes</th>\n",
       "      <th>ordering</th>\n",
       "      <th>title</th>\n",
       "      <th>region</th>\n",
       "      <th>language</th>\n",
       "      <th>types</th>\n",
       "      <th>attributes</th>\n",
       "      <th>isOriginalTitle</th>\n",
       "      <th>Description</th>\n",
       "    </tr>\n",
       "  </thead>\n",
       "  <tbody>\n",
       "    <tr>\n",
       "      <th>0</th>\n",
       "      <td>0</td>\n",
       "      <td>0</td>\n",
       "      <td>tt0102926</td>\n",
       "      <td>movie</td>\n",
       "      <td>The Silence of the Lambs</td>\n",
       "      <td>The Silence of the Lambs</td>\n",
       "      <td>0</td>\n",
       "      <td>1991</td>\n",
       "      <td>\\N</td>\n",
       "      <td>118</td>\n",
       "      <td>...</td>\n",
       "      <td>8.6</td>\n",
       "      <td>1473918</td>\n",
       "      <td>50</td>\n",
       "      <td>The Silence of the Lambs</td>\n",
       "      <td>US</td>\n",
       "      <td>en</td>\n",
       "      <td>\\N</td>\n",
       "      <td>\\N</td>\n",
       "      <td>0</td>\n",
       "      <td>Jodie Foster stars as Clarice Starling, a top ...</td>\n",
       "    </tr>\n",
       "    <tr>\n",
       "      <th>1</th>\n",
       "      <td>1</td>\n",
       "      <td>1</td>\n",
       "      <td>tt0103064</td>\n",
       "      <td>movie</td>\n",
       "      <td>Terminator 2: Judgment Day</td>\n",
       "      <td>Terminator 2: Judgment Day</td>\n",
       "      <td>0</td>\n",
       "      <td>1991</td>\n",
       "      <td>\\N</td>\n",
       "      <td>137</td>\n",
       "      <td>...</td>\n",
       "      <td>8.6</td>\n",
       "      <td>1128166</td>\n",
       "      <td>17</td>\n",
       "      <td>Terminator 2: Judgment Day</td>\n",
       "      <td>US</td>\n",
       "      <td>en</td>\n",
       "      <td>dvd</td>\n",
       "      <td>\\N</td>\n",
       "      <td>0</td>\n",
       "      <td>In this sequel set eleven years after \"The Ter...</td>\n",
       "    </tr>\n",
       "    <tr>\n",
       "      <th>2</th>\n",
       "      <td>2</td>\n",
       "      <td>3</td>\n",
       "      <td>tt0110357</td>\n",
       "      <td>movie</td>\n",
       "      <td>The Lion King</td>\n",
       "      <td>The Lion King</td>\n",
       "      <td>0</td>\n",
       "      <td>1994</td>\n",
       "      <td>\\N</td>\n",
       "      <td>88</td>\n",
       "      <td>...</td>\n",
       "      <td>8.5</td>\n",
       "      <td>1090882</td>\n",
       "      <td>18</td>\n",
       "      <td>The Lion King 3D</td>\n",
       "      <td>US</td>\n",
       "      <td>en</td>\n",
       "      <td>\\N</td>\n",
       "      <td>3-D version</td>\n",
       "      <td>0</td>\n",
       "      <td>This Disney animated feature follows the adven...</td>\n",
       "    </tr>\n",
       "    <tr>\n",
       "      <th>3</th>\n",
       "      <td>3</td>\n",
       "      <td>4</td>\n",
       "      <td>tt0110912</td>\n",
       "      <td>movie</td>\n",
       "      <td>Pulp Fiction</td>\n",
       "      <td>Pulp Fiction</td>\n",
       "      <td>0</td>\n",
       "      <td>1994</td>\n",
       "      <td>\\N</td>\n",
       "      <td>154</td>\n",
       "      <td>...</td>\n",
       "      <td>8.9</td>\n",
       "      <td>2118762</td>\n",
       "      <td>22</td>\n",
       "      <td>Pulp Fiction</td>\n",
       "      <td>US</td>\n",
       "      <td>en</td>\n",
       "      <td>\\N</td>\n",
       "      <td>\\N</td>\n",
       "      <td>0</td>\n",
       "      <td>Vincent Vega (John Travolta) and Jules Winnfie...</td>\n",
       "    </tr>\n",
       "    <tr>\n",
       "      <th>4</th>\n",
       "      <td>4</td>\n",
       "      <td>5</td>\n",
       "      <td>tt0111161</td>\n",
       "      <td>movie</td>\n",
       "      <td>The Shawshank Redemption</td>\n",
       "      <td>The Shawshank Redemption</td>\n",
       "      <td>0</td>\n",
       "      <td>1994</td>\n",
       "      <td>\\N</td>\n",
       "      <td>142</td>\n",
       "      <td>...</td>\n",
       "      <td>9.3</td>\n",
       "      <td>2759621</td>\n",
       "      <td>2</td>\n",
       "      <td>The Shawshank Redemption</td>\n",
       "      <td>US</td>\n",
       "      <td>en</td>\n",
       "      <td>\\N</td>\n",
       "      <td>\\N</td>\n",
       "      <td>0</td>\n",
       "      <td>Andy Dufresne (Tim Robbins) is sentenced to tw...</td>\n",
       "    </tr>\n",
       "  </tbody>\n",
       "</table>\n",
       "<p>5 rows × 21 columns</p>\n",
       "</div>"
      ],
      "text/plain": [
       "   Unnamed: 0  index     tconst titleType                primaryTitle  \\\n",
       "0           0      0  tt0102926     movie    The Silence of the Lambs   \n",
       "1           1      1  tt0103064     movie  Terminator 2: Judgment Day   \n",
       "2           2      3  tt0110357     movie               The Lion King   \n",
       "3           3      4  tt0110912     movie                Pulp Fiction   \n",
       "4           4      5  tt0111161     movie    The Shawshank Redemption   \n",
       "\n",
       "                originalTitle  isAdult  startYear endYear runtimeMinutes  ...  \\\n",
       "0    The Silence of the Lambs        0       1991      \\N            118  ...   \n",
       "1  Terminator 2: Judgment Day        0       1991      \\N            137  ...   \n",
       "2               The Lion King        0       1994      \\N             88  ...   \n",
       "3                Pulp Fiction        0       1994      \\N            154  ...   \n",
       "4    The Shawshank Redemption        0       1994      \\N            142  ...   \n",
       "\n",
       "  averageRating  numVotes  ordering                       title region  \\\n",
       "0           8.6   1473918        50    The Silence of the Lambs     US   \n",
       "1           8.6   1128166        17  Terminator 2: Judgment Day     US   \n",
       "2           8.5   1090882        18            The Lion King 3D     US   \n",
       "3           8.9   2118762        22                Pulp Fiction     US   \n",
       "4           9.3   2759621         2    The Shawshank Redemption     US   \n",
       "\n",
       "  language types   attributes isOriginalTitle  \\\n",
       "0       en    \\N           \\N               0   \n",
       "1       en   dvd           \\N               0   \n",
       "2       en    \\N  3-D version               0   \n",
       "3       en    \\N           \\N               0   \n",
       "4       en    \\N           \\N               0   \n",
       "\n",
       "                                         Description  \n",
       "0  Jodie Foster stars as Clarice Starling, a top ...  \n",
       "1  In this sequel set eleven years after \"The Ter...  \n",
       "2  This Disney animated feature follows the adven...  \n",
       "3  Vincent Vega (John Travolta) and Jules Winnfie...  \n",
       "4  Andy Dufresne (Tim Robbins) is sentenced to tw...  \n",
       "\n",
       "[5 rows x 21 columns]"
      ]
     },
     "execution_count": 5,
     "metadata": {},
     "output_type": "execute_result"
    }
   ],
   "source": [
    "#dataset com informações dos filmes\n",
    "df_info = pd.read_csv('datasets/IMDB.csv')\n",
    "df_info.head()"
   ]
  },
  {
   "cell_type": "markdown",
   "metadata": {},
   "source": [
    "### **3.Pré-processamento dos dados**\n",
    "Realizar a limpeza, pré-processamento. Tokenização, remoção de stop words, etc."
   ]
  },
  {
   "cell_type": "code",
   "execution_count": 16,
   "metadata": {},
   "outputs": [],
   "source": [
    "import pandas as pd\n",
    "from sklearn.model_selection import train_test_split\n",
    "from sklearn.feature_extraction.text import CountVectorizer\n",
    "from sklearn.naive_bayes import MultinomialNB\n",
    "from sklearn.metrics import accuracy_score, classification_report\n",
    "\n",
    "# Carregar o dataset\n",
    "dataset_path = 'datasets/conversas_filmes.csv'\n",
    "df = pd.read_csv(dataset_path)\n",
    "\n",
    "# Dividir o dataset em treino e teste\n",
    "train_data, test_data, train_labels, test_labels = train_test_split(\n",
    "    df['Conversa'], df['Intenção'], test_size=0.2, random_state=42\n",
    ")\n",
    "\n",
    "# Criar um vetorizador para converter as conversas em representação numérica\n",
    "vectorizer = CountVectorizer()\n",
    "train_vectors = vectorizer.fit_transform(train_data)\n",
    "test_vectors = vectorizer.transform(test_data)"
   ]
  },
  {
   "cell_type": "markdown",
   "metadata": {},
   "source": [
    "### **4.Identifique Intenções e Entidades**\n",
    "Defina as intenções que seu chatbot precisa entender (por exemplo, \"Encontrar um filme\" ou \"Obter informações sobre um filme específico\") e as entidades associadas (por exemplo, título do filme, gênero, diretor)."
   ]
  },
  {
   "cell_type": "code",
   "execution_count": 17,
   "metadata": {},
   "outputs": [
    {
     "name": "stdout",
     "output_type": "stream",
     "text": [
      "Acurácia: 0.94\n",
      "\n",
      "Relatório de Classificação:\n",
      "                    precision    recall  f1-score   support\n",
      "\n",
      "   Assistir filme       1.00      0.96      0.98        24\n",
      "   Checar sessões       0.81      1.00      0.90        22\n",
      " Comprar ingresso       1.00      0.90      0.95        21\n",
      "Detalhes do filme       1.00      0.88      0.93        16\n",
      "\n",
      "         accuracy                           0.94        83\n",
      "        macro avg       0.95      0.93      0.94        83\n",
      "     weighted avg       0.95      0.94      0.94        83\n",
      "\n",
      "\n",
      "Previsão para a nova conversa: Assistir filme\n"
     ]
    }
   ],
   "source": [
    "# Criar e treinar o modelo Naive Bayes\n",
    "classifier = MultinomialNB()\n",
    "classifier.fit(train_vectors, train_labels)\n",
    "\n",
    "# Fazer previsões no conjunto de teste\n",
    "predictions = classifier.predict(test_vectors)\n",
    "\n",
    "# Avaliar o desempenho do modelo\n",
    "accuracy = accuracy_score(test_labels, predictions)\n",
    "print(f'Acurácia: {accuracy:.2f}\\n')\n",
    "\n",
    "classification_rep = classification_report(test_labels, predictions)\n",
    "print('Relatório de Classificação:\\n', classification_rep)\n",
    "\n",
    "# Exemplo de uso do modelo\n",
    "new_conversation = [\"Qual é o filme mais recente em cartaz?\"]\n",
    "new_conversation_vector = vectorizer.transform(new_conversation)\n",
    "prediction = classifier.predict(new_conversation_vector)\n",
    "print(f'\\nPrevisão para a nova conversa: {prediction[0]}')"
   ]
  },
  {
   "cell_type": "markdown",
   "metadata": {},
   "source": [
    "### **5.Crie um Modelo de Linguagem**\n",
    "Treine um modelo de linguagem para entender e gerar respostas relevantes."
   ]
  },
  {
   "cell_type": "markdown",
   "metadata": {},
   "source": [
    "### **6.Construa uma Base de Conhecimento**\n",
    "Compile uma base de dados ou fonte de conhecimento que seu chatbot possa acessar para fornecer informações sobre filmes. Isso pode incluir bancos de dados de filmes, APIs de informações sobre filmes, etc."
   ]
  },
  {
   "cell_type": "markdown",
   "metadata": {},
   "source": [
    "### **7.Desenvolva a Lógica de Conversação**\n",
    "Crie fluxos de conversação para lidar com diferentes cenários. Isso envolve definir respostas apropriadas para diferentes intenções e entidades identificadas."
   ]
  },
  {
   "cell_type": "markdown",
   "metadata": {},
   "source": [
    "### **8.Integre Serviços de Terceiros**\n",
    "Integre serviços externos, como APIs de informações sobre filmes, para enriquecer as respostas do seu chatbot."
   ]
  },
  {
   "cell_type": "markdown",
   "metadata": {},
   "source": [
    "### **9.Teste o Chatbot**\n",
    "Realize testes extensivos para garantir que o chatbot compreenda corretamente as consultas dos usuários e forneça respostas precisas.\n"
   ]
  },
  {
   "cell_type": "markdown",
   "metadata": {},
   "source": [
    "### **10.Implemente e Monitore**\n",
    "Implemente o chatbot na plataforma escolhida e monitore seu desempenho. Esteja preparado para fazer ajustes conforme necessário."
   ]
  },
  {
   "cell_type": "markdown",
   "metadata": {},
   "source": []
  }
 ],
 "metadata": {
  "kernelspec": {
   "display_name": "Python 3",
   "language": "python",
   "name": "python3"
  },
  "language_info": {
   "codemirror_mode": {
    "name": "ipython",
    "version": 3
   },
   "file_extension": ".py",
   "mimetype": "text/x-python",
   "name": "python",
   "nbconvert_exporter": "python",
   "pygments_lexer": "ipython3",
   "version": "3.10.4"
  }
 },
 "nbformat": 4,
 "nbformat_minor": 2
}
