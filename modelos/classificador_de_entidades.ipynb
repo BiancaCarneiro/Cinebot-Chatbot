{
 "cells": [
  {
   "cell_type": "markdown",
   "metadata": {},
   "source": [
    "# Imports iniciais"
   ]
  },
  {
   "cell_type": "code",
   "execution_count": 1,
   "metadata": {},
   "outputs": [
    {
     "name": "stdout",
     "output_type": "stream",
     "text": [
      "Requirement already satisfied: pandas in c:\\users\\bianc\\desktop\\chatbot-nlp\\.venv\\lib\\site-packages (2.2.1)\n",
      "Requirement already satisfied: nltk in c:\\users\\bianc\\desktop\\chatbot-nlp\\.venv\\lib\\site-packages (3.8.1)\n",
      "Requirement already satisfied: torch in c:\\users\\bianc\\desktop\\chatbot-nlp\\.venv\\lib\\site-packages (2.2.1)\n",
      "Requirement already satisfied: matplotlib in c:\\users\\bianc\\desktop\\chatbot-nlp\\.venv\\lib\\site-packages (3.8.3)\n",
      "Requirement already satisfied: seaborn in c:\\users\\bianc\\desktop\\chatbot-nlp\\.venv\\lib\\site-packages (0.13.2)\n",
      "Requirement already satisfied: wordcloud in c:\\users\\bianc\\desktop\\chatbot-nlp\\.venv\\lib\\site-packages (1.9.3)\n",
      "Requirement already satisfied: scikit-learn in c:\\users\\bianc\\desktop\\chatbot-nlp\\.venv\\lib\\site-packages (1.4.1.post1)\n",
      "Requirement already satisfied: evaluate in c:\\users\\bianc\\desktop\\chatbot-nlp\\.venv\\lib\\site-packages (0.4.1)\n",
      "Requirement already satisfied: datasets in c:\\users\\bianc\\desktop\\chatbot-nlp\\.venv\\lib\\site-packages (2.17.1)\n",
      "Requirement already satisfied: transformers[torch] in c:\\users\\bianc\\desktop\\chatbot-nlp\\.venv\\lib\\site-packages (4.38.1)\n",
      "Requirement already satisfied: numpy<2,>=1.22.4 in c:\\users\\bianc\\desktop\\chatbot-nlp\\.venv\\lib\\site-packages (from pandas) (1.26.4)\n",
      "Requirement already satisfied: python-dateutil>=2.8.2 in c:\\users\\bianc\\desktop\\chatbot-nlp\\.venv\\lib\\site-packages (from pandas) (2.8.2)\n",
      "Requirement already satisfied: pytz>=2020.1 in c:\\users\\bianc\\desktop\\chatbot-nlp\\.venv\\lib\\site-packages (from pandas) (2024.1)\n",
      "Requirement already satisfied: tzdata>=2022.7 in c:\\users\\bianc\\desktop\\chatbot-nlp\\.venv\\lib\\site-packages (from pandas) (2024.1)\n",
      "Requirement already satisfied: click in c:\\users\\bianc\\desktop\\chatbot-nlp\\.venv\\lib\\site-packages (from nltk) (8.1.7)\n",
      "Requirement already satisfied: joblib in c:\\users\\bianc\\desktop\\chatbot-nlp\\.venv\\lib\\site-packages (from nltk) (1.3.2)\n",
      "Requirement already satisfied: regex>=2021.8.3 in c:\\users\\bianc\\desktop\\chatbot-nlp\\.venv\\lib\\site-packages (from nltk) (2023.12.25)\n",
      "Requirement already satisfied: tqdm in c:\\users\\bianc\\desktop\\chatbot-nlp\\.venv\\lib\\site-packages (from nltk) (4.66.2)\n",
      "Requirement already satisfied: filelock in c:\\users\\bianc\\desktop\\chatbot-nlp\\.venv\\lib\\site-packages (from transformers[torch]) (3.13.1)\n",
      "Requirement already satisfied: huggingface-hub<1.0,>=0.19.3 in c:\\users\\bianc\\desktop\\chatbot-nlp\\.venv\\lib\\site-packages (from transformers[torch]) (0.21.1)\n",
      "Requirement already satisfied: packaging>=20.0 in c:\\users\\bianc\\desktop\\chatbot-nlp\\.venv\\lib\\site-packages (from transformers[torch]) (23.2)\n",
      "Requirement already satisfied: pyyaml>=5.1 in c:\\users\\bianc\\desktop\\chatbot-nlp\\.venv\\lib\\site-packages (from transformers[torch]) (6.0.1)\n",
      "Requirement already satisfied: requests in c:\\users\\bianc\\desktop\\chatbot-nlp\\.venv\\lib\\site-packages (from transformers[torch]) (2.31.0)\n",
      "Requirement already satisfied: tokenizers<0.19,>=0.14 in c:\\users\\bianc\\desktop\\chatbot-nlp\\.venv\\lib\\site-packages (from transformers[torch]) (0.15.2)\n",
      "Requirement already satisfied: safetensors>=0.4.1 in c:\\users\\bianc\\desktop\\chatbot-nlp\\.venv\\lib\\site-packages (from transformers[torch]) (0.4.2)\n",
      "Requirement already satisfied: accelerate>=0.21.0 in c:\\users\\bianc\\desktop\\chatbot-nlp\\.venv\\lib\\site-packages (from transformers[torch]) (0.27.2)\n",
      "Requirement already satisfied: typing-extensions>=4.8.0 in c:\\users\\bianc\\desktop\\chatbot-nlp\\.venv\\lib\\site-packages (from torch) (4.10.0)\n",
      "Requirement already satisfied: sympy in c:\\users\\bianc\\desktop\\chatbot-nlp\\.venv\\lib\\site-packages (from torch) (1.12)\n",
      "Requirement already satisfied: networkx in c:\\users\\bianc\\desktop\\chatbot-nlp\\.venv\\lib\\site-packages (from torch) (3.2.1)\n",
      "Requirement already satisfied: jinja2 in c:\\users\\bianc\\desktop\\chatbot-nlp\\.venv\\lib\\site-packages (from torch) (3.1.3)\n",
      "Requirement already satisfied: fsspec in c:\\users\\bianc\\desktop\\chatbot-nlp\\.venv\\lib\\site-packages (from torch) (2023.10.0)\n",
      "Requirement already satisfied: contourpy>=1.0.1 in c:\\users\\bianc\\desktop\\chatbot-nlp\\.venv\\lib\\site-packages (from matplotlib) (1.2.0)\n",
      "Requirement already satisfied: cycler>=0.10 in c:\\users\\bianc\\desktop\\chatbot-nlp\\.venv\\lib\\site-packages (from matplotlib) (0.12.1)\n",
      "Requirement already satisfied: fonttools>=4.22.0 in c:\\users\\bianc\\desktop\\chatbot-nlp\\.venv\\lib\\site-packages (from matplotlib) (4.49.0)\n",
      "Requirement already satisfied: kiwisolver>=1.3.1 in c:\\users\\bianc\\desktop\\chatbot-nlp\\.venv\\lib\\site-packages (from matplotlib) (1.4.5)\n",
      "Requirement already satisfied: pillow>=8 in c:\\users\\bianc\\desktop\\chatbot-nlp\\.venv\\lib\\site-packages (from matplotlib) (10.2.0)\n",
      "Requirement already satisfied: pyparsing>=2.3.1 in c:\\users\\bianc\\desktop\\chatbot-nlp\\.venv\\lib\\site-packages (from matplotlib) (3.1.1)\n",
      "Requirement already satisfied: scipy>=1.6.0 in c:\\users\\bianc\\desktop\\chatbot-nlp\\.venv\\lib\\site-packages (from scikit-learn) (1.12.0)\n",
      "Requirement already satisfied: threadpoolctl>=2.0.0 in c:\\users\\bianc\\desktop\\chatbot-nlp\\.venv\\lib\\site-packages (from scikit-learn) (3.3.0)\n",
      "Requirement already satisfied: dill in c:\\users\\bianc\\desktop\\chatbot-nlp\\.venv\\lib\\site-packages (from evaluate) (0.3.8)\n",
      "Requirement already satisfied: xxhash in c:\\users\\bianc\\desktop\\chatbot-nlp\\.venv\\lib\\site-packages (from evaluate) (3.4.1)\n",
      "Requirement already satisfied: multiprocess in c:\\users\\bianc\\desktop\\chatbot-nlp\\.venv\\lib\\site-packages (from evaluate) (0.70.16)\n",
      "Requirement already satisfied: responses<0.19 in c:\\users\\bianc\\desktop\\chatbot-nlp\\.venv\\lib\\site-packages (from evaluate) (0.18.0)\n",
      "Requirement already satisfied: pyarrow>=12.0.0 in c:\\users\\bianc\\desktop\\chatbot-nlp\\.venv\\lib\\site-packages (from datasets) (15.0.0)\n",
      "Requirement already satisfied: pyarrow-hotfix in c:\\users\\bianc\\desktop\\chatbot-nlp\\.venv\\lib\\site-packages (from datasets) (0.6)\n",
      "Requirement already satisfied: aiohttp in c:\\users\\bianc\\desktop\\chatbot-nlp\\.venv\\lib\\site-packages (from datasets) (3.9.3)\n",
      "Requirement already satisfied: psutil in c:\\users\\bianc\\desktop\\chatbot-nlp\\.venv\\lib\\site-packages (from accelerate>=0.21.0->transformers[torch]) (5.9.8)\n",
      "Requirement already satisfied: aiosignal>=1.1.2 in c:\\users\\bianc\\desktop\\chatbot-nlp\\.venv\\lib\\site-packages (from aiohttp->datasets) (1.3.1)\n",
      "Requirement already satisfied: attrs>=17.3.0 in c:\\users\\bianc\\desktop\\chatbot-nlp\\.venv\\lib\\site-packages (from aiohttp->datasets) (23.2.0)\n",
      "Requirement already satisfied: frozenlist>=1.1.1 in c:\\users\\bianc\\desktop\\chatbot-nlp\\.venv\\lib\\site-packages (from aiohttp->datasets) (1.4.1)\n",
      "Requirement already satisfied: multidict<7.0,>=4.5 in c:\\users\\bianc\\desktop\\chatbot-nlp\\.venv\\lib\\site-packages (from aiohttp->datasets) (6.0.5)\n",
      "Requirement already satisfied: yarl<2.0,>=1.0 in c:\\users\\bianc\\desktop\\chatbot-nlp\\.venv\\lib\\site-packages (from aiohttp->datasets) (1.9.4)\n",
      "Requirement already satisfied: async-timeout<5.0,>=4.0 in c:\\users\\bianc\\desktop\\chatbot-nlp\\.venv\\lib\\site-packages (from aiohttp->datasets) (4.0.3)\n",
      "Requirement already satisfied: six>=1.5 in c:\\users\\bianc\\desktop\\chatbot-nlp\\.venv\\lib\\site-packages (from python-dateutil>=2.8.2->pandas) (1.16.0)\n",
      "Requirement already satisfied: charset-normalizer<4,>=2 in c:\\users\\bianc\\desktop\\chatbot-nlp\\.venv\\lib\\site-packages (from requests->transformers[torch]) (3.3.2)\n",
      "Requirement already satisfied: idna<4,>=2.5 in c:\\users\\bianc\\desktop\\chatbot-nlp\\.venv\\lib\\site-packages (from requests->transformers[torch]) (3.6)\n",
      "Requirement already satisfied: urllib3<3,>=1.21.1 in c:\\users\\bianc\\desktop\\chatbot-nlp\\.venv\\lib\\site-packages (from requests->transformers[torch]) (2.2.1)\n",
      "Requirement already satisfied: certifi>=2017.4.17 in c:\\users\\bianc\\desktop\\chatbot-nlp\\.venv\\lib\\site-packages (from requests->transformers[torch]) (2024.2.2)\n",
      "Requirement already satisfied: colorama in c:\\users\\bianc\\desktop\\chatbot-nlp\\.venv\\lib\\site-packages (from tqdm->nltk) (0.4.6)\n",
      "Requirement already satisfied: MarkupSafe>=2.0 in c:\\users\\bianc\\desktop\\chatbot-nlp\\.venv\\lib\\site-packages (from jinja2->torch) (2.1.5)\n",
      "Requirement already satisfied: mpmath>=0.19 in c:\\users\\bianc\\desktop\\chatbot-nlp\\.venv\\lib\\site-packages (from sympy->torch) (1.3.0)\n"
     ]
    }
   ],
   "source": [
    "! pip install pandas nltk transformers[torch] torch matplotlib seaborn wordcloud scikit-learn evaluate datasets"
   ]
  },
  {
   "cell_type": "code",
   "execution_count": 1,
   "metadata": {},
   "outputs": [
    {
     "name": "stderr",
     "output_type": "stream",
     "text": [
      "c:\\Users\\bianc\\Desktop\\Chatbot-NLP\\.venv\\lib\\site-packages\\tqdm\\auto.py:21: TqdmWarning: IProgress not found. Please update jupyter and ipywidgets. See https://ipywidgets.readthedocs.io/en/stable/user_install.html\n",
      "  from .autonotebook import tqdm as notebook_tqdm\n",
      "Some weights of BertForTokenClassification were not initialized from the model checkpoint at bert-base-multilingual-uncased and are newly initialized: ['classifier.bias', 'classifier.weight']\n",
      "You should probably TRAIN this model on a down-stream task to be able to use it for predictions and inference.\n",
      "[nltk_data] Downloading package punkt to\n",
      "[nltk_data]     C:\\Users\\bianc\\AppData\\Roaming\\nltk_data...\n",
      "[nltk_data]   Package punkt is already up-to-date!\n",
      "[nltk_data] Downloading package stopwords to\n",
      "[nltk_data]     C:\\Users\\bianc\\AppData\\Roaming\\nltk_data...\n",
      "[nltk_data]   Package stopwords is already up-to-date!\n"
     ]
    },
    {
     "data": {
      "text/plain": [
       "True"
      ]
     },
     "execution_count": 1,
     "metadata": {},
     "output_type": "execute_result"
    }
   ],
   "source": [
    "import pandas as pd\n",
    "import random\n",
    "import nltk # pip3 install nltk\n",
    "from LSTM import *\n",
    "from common import *\n",
    "\n",
    "random.seed(42)\n",
    "nltk.download('punkt')\n",
    "nltk.download('stopwords')"
   ]
  },
  {
   "cell_type": "code",
   "execution_count": 2,
   "metadata": {},
   "outputs": [],
   "source": [
    "PATH_DATASET_NER = \"../datasets/NER_dataset.json\""
   ]
  },
  {
   "cell_type": "code",
   "execution_count": 3,
   "metadata": {},
   "outputs": [
    {
     "data": {
      "text/html": [
       "<div>\n",
       "<style scoped>\n",
       "    .dataframe tbody tr th:only-of-type {\n",
       "        vertical-align: middle;\n",
       "    }\n",
       "\n",
       "    .dataframe tbody tr th {\n",
       "        vertical-align: top;\n",
       "    }\n",
       "\n",
       "    .dataframe thead th {\n",
       "        text-align: right;\n",
       "    }\n",
       "</style>\n",
       "<table border=\"1\" class=\"dataframe\">\n",
       "  <thead>\n",
       "    <tr style=\"text-align: right;\">\n",
       "      <th></th>\n",
       "      <th>annotations</th>\n",
       "    </tr>\n",
       "  </thead>\n",
       "  <tbody>\n",
       "    <tr>\n",
       "      <th>0</th>\n",
       "      <td>[[De, jeito, nenhum.], [ENTITY_PREFERENCE, ENT...</td>\n",
       "    </tr>\n",
       "    <tr>\n",
       "      <th>1</th>\n",
       "      <td>[[Super-herói, de, ficção, científica], [ENTIT...</td>\n",
       "    </tr>\n",
       "    <tr>\n",
       "      <th>2</th>\n",
       "      <td>[[Eu, gosto], [ENTITY_PREFERENCE, ENTITY_PREFE...</td>\n",
       "    </tr>\n",
       "    <tr>\n",
       "      <th>3</th>\n",
       "      <td>[[Bem,, como, eu, disse, eu, eu, gosto, princi...</td>\n",
       "    </tr>\n",
       "    <tr>\n",
       "      <th>4</th>\n",
       "      <td>[[Sim,, absolutamente.], [ENTITY_PREFERENCE, E...</td>\n",
       "    </tr>\n",
       "  </tbody>\n",
       "</table>\n",
       "</div>"
      ],
      "text/plain": [
       "                                         annotations\n",
       "0  [[De, jeito, nenhum.], [ENTITY_PREFERENCE, ENT...\n",
       "1  [[Super-herói, de, ficção, científica], [ENTIT...\n",
       "2  [[Eu, gosto], [ENTITY_PREFERENCE, ENTITY_PREFE...\n",
       "3  [[Bem,, como, eu, disse, eu, eu, gosto, princi...\n",
       "4  [[Sim,, absolutamente.], [ENTITY_PREFERENCE, E..."
      ]
     },
     "execution_count": 3,
     "metadata": {},
     "output_type": "execute_result"
    }
   ],
   "source": [
    "df = pd.read_json(PATH_DATASET_NER)\n",
    "df.head()"
   ]
  },
  {
   "cell_type": "code",
   "execution_count": 4,
   "metadata": {},
   "outputs": [],
   "source": [
    "ner_df = df[\"annotations\"]"
   ]
  },
  {
   "cell_type": "markdown",
   "metadata": {},
   "source": [
    "# Analisando o dataset"
   ]
  },
  {
   "cell_type": "code",
   "execution_count": 6,
   "metadata": {},
   "outputs": [
    {
     "data": {
      "text/plain": [
       "(104,\n",
       " [['De', 'jeito', 'nenhum.'],\n",
       "  ['Super-herói', 'de', 'ficção', 'científica'],\n",
       "  ['Eu', 'gosto'],\n",
       "  ['Bem,',\n",
       "   'como',\n",
       "   'eu',\n",
       "   'disse',\n",
       "   'eu',\n",
       "   'eu',\n",
       "   'gosto',\n",
       "   'principalmente',\n",
       "   'de',\n",
       "   'comédias',\n",
       "   'porque',\n",
       "   'tira',\n",
       "   'minha',\n",
       "   'mente',\n",
       "   'das',\n",
       "   'coisas',\n",
       "   'do',\n",
       "   'dia',\n",
       "   'a',\n",
       "   'dia',\n",
       "   'e',\n",
       "   'eu',\n",
       "   'gosto',\n",
       "   'dos',\n",
       "   'documentários'],\n",
       "  ['Sim,', 'absolutamente.'],\n",
       "  ['filmes', 'de', 'comédia'],\n",
       "  ['Eu',\n",
       "   'realmente',\n",
       "   'gosto',\n",
       "   'de',\n",
       "   'comédias',\n",
       "   'e',\n",
       "   'filmes',\n",
       "   'de',\n",
       "   'ficção',\n",
       "   'científica'],\n",
       "  ['claro', 'com', 'a', 'primeira', 'vez', 'que', 'Homem', 'de', 'Ferro'],\n",
       "  ['Filmes',\n",
       "   'como',\n",
       "   'filmes',\n",
       "   'de',\n",
       "   'Adam',\n",
       "   'Sandler',\n",
       "   'ou',\n",
       "   'filmes',\n",
       "   'de',\n",
       "   'Jim',\n",
       "   'Carrey'],\n",
       "  ['Eu',\n",
       "   'gosto',\n",
       "   'da',\n",
       "   'história',\n",
       "   'de',\n",
       "   'uma',\n",
       "   'família',\n",
       "   'de',\n",
       "   'super-heróis',\n",
       "   'tentando',\n",
       "   'levar',\n",
       "   'uma',\n",
       "   'vida',\n",
       "   'normal',\n",
       "   ',',\n",
       "   'e',\n",
       "   'eu',\n",
       "   'gosto',\n",
       "   'da',\n",
       "   'animação.',\n",
       "   'Amo',\n",
       "   'tudo',\n",
       "   'da',\n",
       "   'Pixar']])"
      ]
     },
     "execution_count": 6,
     "metadata": {},
     "output_type": "execute_result"
    }
   ],
   "source": [
    "text_entries = []\n",
    "\n",
    "for element in df.annotations:\n",
    "    text_entries.append(element[0])\n",
    "\n",
    "len(text_entries), text_entries[:10]"
   ]
  },
  {
   "cell_type": "code",
   "execution_count": 7,
   "metadata": {},
   "outputs": [
    {
     "data": {
      "text/plain": [
       "'de jeito n'"
      ]
     },
     "execution_count": 7,
     "metadata": {},
     "output_type": "execute_result"
    }
   ],
   "source": [
    "conc_text = \"\\n\".join([\" \".join(entries) for entries in text_entries]).lower()\n",
    "conc_text[:10]"
   ]
  },
  {
   "cell_type": "code",
   "execution_count": 8,
   "metadata": {},
   "outputs": [
    {
     "data": {
      "text/plain": [
       "['de',\n",
       " 'jeito',\n",
       " 'nenhum',\n",
       " 'superherói',\n",
       " 'de',\n",
       " 'ficção',\n",
       " 'científica',\n",
       " 'eu',\n",
       " 'gosto',\n",
       " 'bem']"
      ]
     },
     "execution_count": 8,
     "metadata": {},
     "output_type": "execute_result"
    }
   ],
   "source": [
    "tokenized_words = nltk.tokenize.word_tokenize(remove_punctuation(conc_text), language=\"portuguese\")\n",
    "tokenized_words[:10]"
   ]
  },
  {
   "cell_type": "code",
   "execution_count": 9,
   "metadata": {},
   "outputs": [
    {
     "data": {
      "text/plain": [
       "['a',\n",
       " 'à',\n",
       " 'ao',\n",
       " 'aos',\n",
       " 'aquela',\n",
       " 'aquelas',\n",
       " 'aquele',\n",
       " 'aqueles',\n",
       " 'aquilo',\n",
       " 'as']"
      ]
     },
     "execution_count": 9,
     "metadata": {},
     "output_type": "execute_result"
    }
   ],
   "source": [
    "stopwords_pt = nltk.corpus.stopwords.words('portuguese')\n",
    "stopwords_pt[:10]"
   ]
  },
  {
   "cell_type": "markdown",
   "metadata": {},
   "source": [
    "## Tamanho do vocabulário"
   ]
  },
  {
   "cell_type": "code",
   "execution_count": 10,
   "metadata": {},
   "outputs": [
    {
     "name": "stdout",
     "output_type": "stream",
     "text": [
      "O tamanho do vocabulário é 443\n"
     ]
    }
   ],
   "source": [
    "print(f\"O tamanho do vocabulário é {len(set(tokenized_words))}\")"
   ]
  },
  {
   "cell_type": "markdown",
   "metadata": {},
   "source": [
    "## Tamanho das Sentenças"
   ]
  },
  {
   "cell_type": "code",
   "execution_count": 11,
   "metadata": {},
   "outputs": [
    {
     "data": {
      "image/png": "[encoded data removed]",
      "text/plain": [
       "<Figure size 640x480 with 1 Axes>"
      ]
     },
     "metadata": {},
     "output_type": "display_data"
    }
   ],
   "source": [
    "plot_hist([len(phrase) for phrase in text_entries], title=\"Histograma: Número de Caracteres\")"
   ]
  },
  {
   "cell_type": "code",
   "execution_count": 12,
   "metadata": {},
   "outputs": [
    {
     "ename": "AttributeError",
     "evalue": "'list' object has no attribute 'translate'",
     "output_type": "error",
     "traceback": [
      "\u001b[1;31m---------------------------------------------------------------------------\u001b[0m",
      "\u001b[1;31mAttributeError\u001b[0m                            Traceback (most recent call last)",
      "Cell \u001b[1;32mIn[12], line 1\u001b[0m\n\u001b[1;32m----> 1\u001b[0m plot_hist([\u001b[38;5;28mlen\u001b[39m(nltk\u001b[38;5;241m.\u001b[39mtokenize\u001b[38;5;241m.\u001b[39mword_tokenize(remove_punctuation(phrase), language\u001b[38;5;241m=\u001b[39m\u001b[38;5;124m\"\u001b[39m\u001b[38;5;124mportuguese\u001b[39m\u001b[38;5;124m\"\u001b[39m)) \u001b[38;5;28;01mfor\u001b[39;00m phrase \u001b[38;5;129;01min\u001b[39;00m text_entries], \u001b[38;5;124m\"\u001b[39m\u001b[38;5;124mHistograma: Número de Tokens\u001b[39m\u001b[38;5;124m\"\u001b[39m)\n",
      "Cell \u001b[1;32mIn[12], line 1\u001b[0m, in \u001b[0;36m<listcomp>\u001b[1;34m(.0)\u001b[0m\n\u001b[1;32m----> 1\u001b[0m plot_hist([\u001b[38;5;28mlen\u001b[39m(nltk\u001b[38;5;241m.\u001b[39mtokenize\u001b[38;5;241m.\u001b[39mword_tokenize(\u001b[43mremove_punctuation\u001b[49m\u001b[43m(\u001b[49m\u001b[43mphrase\u001b[49m\u001b[43m)\u001b[49m, language\u001b[38;5;241m=\u001b[39m\u001b[38;5;124m\"\u001b[39m\u001b[38;5;124mportuguese\u001b[39m\u001b[38;5;124m\"\u001b[39m)) \u001b[38;5;28;01mfor\u001b[39;00m phrase \u001b[38;5;129;01min\u001b[39;00m text_entries], \u001b[38;5;124m\"\u001b[39m\u001b[38;5;124mHistograma: Número de Tokens\u001b[39m\u001b[38;5;124m\"\u001b[39m)\n",
      "File \u001b[1;32mc:\\Users\\bianc\\Desktop\\Chatbot-NLP\\modelos\\common.py:11\u001b[0m, in \u001b[0;36mremove_punctuation\u001b[1;34m(input_string)\u001b[0m\n\u001b[0;32m      9\u001b[0m \u001b[38;5;28;01mdef\u001b[39;00m \u001b[38;5;21mremove_punctuation\u001b[39m(input_string):\n\u001b[0;32m     10\u001b[0m     translator \u001b[38;5;241m=\u001b[39m \u001b[38;5;28mstr\u001b[39m\u001b[38;5;241m.\u001b[39mmaketrans(\u001b[38;5;124m'\u001b[39m\u001b[38;5;124m'\u001b[39m, \u001b[38;5;124m'\u001b[39m\u001b[38;5;124m'\u001b[39m, string\u001b[38;5;241m.\u001b[39mpunctuation)\n\u001b[1;32m---> 11\u001b[0m     \u001b[38;5;28;01mreturn\u001b[39;00m \u001b[43minput_string\u001b[49m\u001b[38;5;241;43m.\u001b[39;49m\u001b[43mtranslate\u001b[49m(translator)\n",
      "\u001b[1;31mAttributeError\u001b[0m: 'list' object has no attribute 'translate'"
     ]
    }
   ],
   "source": [
    "plot_hist([len(nltk.tokenize.word_tokenize(remove_punctuation(phrase), language=\"portuguese\")) for phrase in text_entries], \"Histograma: Número de Tokens\")"
   ]
  },
  {
   "cell_type": "code",
   "execution_count": null,
   "metadata": {},
   "outputs": [
    {
     "ename": "NameError",
     "evalue": "name 'plot_hist' is not defined",
     "output_type": "error",
     "traceback": [
      "\u001b[1;31m---------------------------------------------------------------------------\u001b[0m",
      "\u001b[1;31mNameError\u001b[0m                                 Traceback (most recent call last)",
      "Cell \u001b[1;32mIn[6], line 1\u001b[0m\n\u001b[1;32m----> 1\u001b[0m \u001b[43mplot_hist\u001b[49m([\u001b[38;5;28mlen\u001b[39m(tk) \u001b[38;5;28;01mfor\u001b[39;00m tk \u001b[38;5;129;01min\u001b[39;00m tokenized_words], \u001b[38;5;124m\"\u001b[39m\u001b[38;5;124mHistograma: Tamanho dos Tokens\u001b[39m\u001b[38;5;124m\"\u001b[39m)\n",
      "\u001b[1;31mNameError\u001b[0m: name 'plot_hist' is not defined"
     ]
    }
   ],
   "source": [
    "plot_hist([len(tk) for tk in tokenized_words], \"Histograma: Tamanho dos Tokens\")"
   ]
  },
  {
   "cell_type": "markdown",
   "metadata": {},
   "source": [
    "## Palavras mais comuns"
   ]
  },
  {
   "cell_type": "code",
   "execution_count": null,
   "metadata": {},
   "outputs": [
    {
     "ename": "NameError",
     "evalue": "name 'plot_most_frequent_word' is not defined",
     "output_type": "error",
     "traceback": [
      "\u001b[1;31m---------------------------------------------------------------------------\u001b[0m",
      "\u001b[1;31mNameError\u001b[0m                                 Traceback (most recent call last)",
      "Cell \u001b[1;32mIn[7], line 1\u001b[0m\n\u001b[1;32m----> 1\u001b[0m \u001b[43mplot_most_frequent_word\u001b[49m(tokenized_words, stopwords_pt)\n",
      "\u001b[1;31mNameError\u001b[0m: name 'plot_most_frequent_word' is not defined"
     ]
    }
   ],
   "source": [
    "plot_most_frequent_word(tokenized_words, stopwords_pt)"
   ]
  },
  {
   "cell_type": "code",
   "execution_count": null,
   "metadata": {},
   "outputs": [
    {
     "ename": "NameError",
     "evalue": "name 'cloud_of_words' is not defined",
     "output_type": "error",
     "traceback": [
      "\u001b[1;31m---------------------------------------------------------------------------\u001b[0m",
      "\u001b[1;31mNameError\u001b[0m                                 Traceback (most recent call last)",
      "Cell \u001b[1;32mIn[8], line 1\u001b[0m\n\u001b[1;32m----> 1\u001b[0m \u001b[43mcloud_of_words\u001b[49m(conc_text, stopwords_pt)\n",
      "\u001b[1;31mNameError\u001b[0m: name 'cloud_of_words' is not defined"
     ]
    }
   ],
   "source": [
    "cloud_of_words(conc_text, stopwords_pt)"
   ]
  },
  {
   "cell_type": "markdown",
   "metadata": {},
   "source": [
    "# Separando o dataset"
   ]
  },
  {
   "cell_type": "code",
   "execution_count": 5,
   "metadata": {},
   "outputs": [
    {
     "data": {
      "text/plain": [
       "0    [[Eu, gosto, de, filmes, de, aventura], [ENTIT...\n",
       "1    [[É, só, isso., Eu, não, sou, muito, fã, de, f...\n",
       "2    [[Foi, Houve, muitos, super-heróis, e, ação, n...\n",
       "Name: annotations, dtype: object"
      ]
     },
     "execution_count": 5,
     "metadata": {},
     "output_type": "execute_result"
    }
   ],
   "source": [
    "random.shuffle(ner_df)\n",
    "ner_df[:3]"
   ]
  },
  {
   "cell_type": "code",
   "execution_count": 6,
   "metadata": {},
   "outputs": [
    {
     "data": {
      "text/plain": [
       "(62, 21, 21)"
      ]
     },
     "execution_count": 6,
     "metadata": {},
     "output_type": "execute_result"
    }
   ],
   "source": [
    "df_train = ner_df[:int(len(ner_df)*0.6)]\n",
    "df_test = ner_df[int(len(ner_df)*0.6):int(len(ner_df)*0.8)]\n",
    "df_val = ner_df[int(len(ner_df)*0.8):]\n",
    "\n",
    "len(df_train), len(df_test), len(df_val)"
   ]
  },
  {
   "cell_type": "markdown",
   "metadata": {},
   "source": [
    "# Treinando o Extrator"
   ]
  },
  {
   "cell_type": "markdown",
   "metadata": {},
   "source": [
    "## LSTM"
   ]
  },
  {
   "cell_type": "code",
   "execution_count": 7,
   "metadata": {},
   "outputs": [],
   "source": [
    "word_to_ix, tag_to_ix = one_hot_encoding_mapper(ner_df)"
   ]
  },
  {
   "cell_type": "code",
   "execution_count": 16,
   "metadata": {},
   "outputs": [],
   "source": [
    "EMBEDDING_DIM = 32\n",
    "HIDDEN_DIM = 16\n",
    "OUTPUT_DIM = 5  # Número de tags de saída\n",
    "NUM_EPOCHS = 100"
   ]
  },
  {
   "cell_type": "code",
   "execution_count": 17,
   "metadata": {},
   "outputs": [
    {
     "name": "stdout",
     "output_type": "stream",
     "text": [
      "Treinando LSTM no device cpu\n"
     ]
    },
    {
     "name": "stderr",
     "output_type": "stream",
     "text": [
      "  2%|▏         | 2/100 [00:00<00:06, 15.25it/s]"
     ]
    },
    {
     "name": "stdout",
     "output_type": "stream",
     "text": [
      "Epoch 1, Validation Loss: 1.4391574121656872\n",
      "Epoch 2, Validation Loss: 1.3276747947647458\n",
      "Epoch 3, Validation Loss: 1.2615800812130882\n"
     ]
    },
    {
     "name": "stderr",
     "output_type": "stream",
     "text": [
      "  4%|▍         | 4/100 [00:00<00:05, 17.01it/s]"
     ]
    },
    {
     "name": "stdout",
     "output_type": "stream",
     "text": [
      "Epoch 4, Validation Loss: 1.2151458462079365\n",
      "Epoch 5, Validation Loss: 1.1839693131900968\n"
     ]
    },
    {
     "name": "stderr",
     "output_type": "stream",
     "text": [
      "  6%|▌         | 6/100 [00:00<00:05, 18.25it/s]"
     ]
    },
    {
     "name": "stdout",
     "output_type": "stream",
     "text": [
      "Epoch 6, Validation Loss: 1.1690844779922849\n",
      "Epoch 7, Validation Loss: 1.1690947441827684\n"
     ]
    },
    {
     "name": "stderr",
     "output_type": "stream",
     "text": [
      "  8%|▊         | 8/100 [00:00<00:04, 18.62it/s]"
     ]
    },
    {
     "name": "stdout",
     "output_type": "stream",
     "text": [
      "Epoch 8, Validation Loss: 1.1802806173052107\n",
      "Epoch 9, Validation Loss: 1.2008491470700218\n"
     ]
    },
    {
     "name": "stderr",
     "output_type": "stream",
     "text": [
      " 10%|█         | 10/100 [00:00<00:05, 16.65it/s]"
     ]
    },
    {
     "name": "stdout",
     "output_type": "stream",
     "text": [
      "Epoch 10, Validation Loss: 1.232724966037841\n",
      "Epoch 11, Validation Loss: 1.273422964272045\n",
      "Early stopping!\n"
     ]
    },
    {
     "name": "stderr",
     "output_type": "stream",
     "text": [
      "\n"
     ]
    }
   ],
   "source": [
    "model = train_lstm(NUM_EPOCHS, df_train, df_val, word_to_ix, tag_to_ix, EMBEDDING_DIM, HIDDEN_DIM)"
   ]
  },
  {
   "cell_type": "code",
   "execution_count": 18,
   "metadata": {},
   "outputs": [
    {
     "name": "stdout",
     "output_type": "stream",
     "text": [
      "Test Accuracy: 0.58984375\n"
     ]
    }
   ],
   "source": [
    "test_LSTM(model, word_to_ix, tag_to_ix, df_test)"
   ]
  }
 ],
 "metadata": {
  "kernelspec": {
   "display_name": "Python 3",
   "language": "python",
   "name": "python3"
  },
  "language_info": {
   "codemirror_mode": {
    "name": "ipython",
    "version": 3
   },
   "file_extension": ".py",
   "mimetype": "text/x-python",
   "name": "python",
   "nbconvert_exporter": "python",
   "pygments_lexer": "ipython3",
   "version": "3.10.11"
  }
 },
 "nbformat": 4,
 "nbformat_minor": 2
}
