{
 "cells": [
  {
   "cell_type": "markdown",
   "metadata": {},
   "source": [
    "# Imports"
   ]
  },
  {
   "cell_type": "code",
   "execution_count": 1,
   "metadata": {},
   "outputs": [
    {
     "name": "stderr",
     "output_type": "stream",
     "text": [
      "[nltk_data] Downloading package punkt to\n",
      "[nltk_data]     C:\\Users\\bianc\\AppData\\Roaming\\nltk_data...\n",
      "[nltk_data]   Package punkt is already up-to-date!\n",
      "[nltk_data] Downloading package stopwords to\n",
      "[nltk_data]     C:\\Users\\bianc\\AppData\\Roaming\\nltk_data...\n",
      "[nltk_data]   Package stopwords is already up-to-date!\n"
     ]
    },
    {
     "data": {
      "text/plain": [
       "True"
      ]
     },
     "execution_count": 1,
     "metadata": {},
     "output_type": "execute_result"
    }
   ],
   "source": [
    "import pandas as pd\n",
    "import sys\n",
    "sys.path.insert(0, '../')\n",
    "\n",
    "import random\n",
    "import nltk # pip3 install nltk\n",
    "from common import *\n",
    "from sklearn.feature_extraction.text import CountVectorizer\n",
    "from sklearn.model_selection import train_test_split\n",
    "from sklearn.preprocessing import LabelEncoder\n",
    "from CNN_model import *\n",
    "\n",
    "random.seed(42)\n",
    "nltk.download('punkt')\n",
    "nltk.download('stopwords')"
   ]
  },
  {
   "cell_type": "code",
   "execution_count": 2,
   "metadata": {},
   "outputs": [],
   "source": [
    "PATH_DATASET = \"../../datasets/conversas_filmes.csv\""
   ]
  },
  {
   "cell_type": "code",
   "execution_count": 3,
   "metadata": {},
   "outputs": [
    {
     "data": {
      "text/html": [
       "<div>\n",
       "<style scoped>\n",
       "    .dataframe tbody tr th:only-of-type {\n",
       "        vertical-align: middle;\n",
       "    }\n",
       "\n",
       "    .dataframe tbody tr th {\n",
       "        vertical-align: top;\n",
       "    }\n",
       "\n",
       "    .dataframe thead th {\n",
       "        text-align: right;\n",
       "    }\n",
       "</style>\n",
       "<table border=\"1\" class=\"dataframe\">\n",
       "  <thead>\n",
       "    <tr style=\"text-align: right;\">\n",
       "      <th></th>\n",
       "      <th>Conversa</th>\n",
       "      <th>Intenção</th>\n",
       "    </tr>\n",
       "  </thead>\n",
       "  <tbody>\n",
       "    <tr>\n",
       "      <th>0</th>\n",
       "      <td>Quais são os filmes em cartaz?</td>\n",
       "      <td>Assistir filme</td>\n",
       "    </tr>\n",
       "    <tr>\n",
       "      <th>1</th>\n",
       "      <td>Onde posso comprar ingressos para os filmes de...</td>\n",
       "      <td>Comprar ingresso</td>\n",
       "    </tr>\n",
       "    <tr>\n",
       "      <th>2</th>\n",
       "      <td>Gostaria de saber mais sobre o filme \"Aventura...</td>\n",
       "      <td>Detalhes do filme</td>\n",
       "    </tr>\n",
       "    <tr>\n",
       "      <th>3</th>\n",
       "      <td>Quando é a próxima sessão de \"Viagem Espacial\"?</td>\n",
       "      <td>Checar sessões</td>\n",
       "    </tr>\n",
       "    <tr>\n",
       "      <th>4</th>\n",
       "      <td>Qual é o melhor filme em exibição agora?</td>\n",
       "      <td>Assistir filme</td>\n",
       "    </tr>\n",
       "  </tbody>\n",
       "</table>\n",
       "</div>"
      ],
      "text/plain": [
       "                                            Conversa           Intenção\n",
       "0                     Quais são os filmes em cartaz?     Assistir filme\n",
       "1  Onde posso comprar ingressos para os filmes de...   Comprar ingresso\n",
       "2  Gostaria de saber mais sobre o filme \"Aventura...  Detalhes do filme\n",
       "3    Quando é a próxima sessão de \"Viagem Espacial\"?     Checar sessões\n",
       "4           Qual é o melhor filme em exibição agora?     Assistir filme"
      ]
     },
     "execution_count": 3,
     "metadata": {},
     "output_type": "execute_result"
    }
   ],
   "source": [
    "df = pd.read_csv(PATH_DATASET)\n",
    "df.head()"
   ]
  },
  {
   "cell_type": "markdown",
   "metadata": {},
   "source": [
    "# Treinando a CNN"
   ]
  },
  {
   "cell_type": "code",
   "execution_count": 4,
   "metadata": {},
   "outputs": [],
   "source": [
    "vectorizer = CountVectorizer()\n",
    "X = vectorizer.fit_transform(df[\"Conversa\"]).toarray()"
   ]
  },
  {
   "cell_type": "code",
   "execution_count": 5,
   "metadata": {},
   "outputs": [],
   "source": [
    "label_encoder = LabelEncoder()\n",
    "y = label_encoder.fit_transform(df[\"Intenção\"])"
   ]
  },
  {
   "cell_type": "code",
   "execution_count": 6,
   "metadata": {},
   "outputs": [],
   "source": [
    "X_train, X_test, y_train, y_test = train_test_split(X, y, test_size=0.3, random_state=42)\n",
    "X_val, X_test, y_val, y_test = train_test_split(X_test, y_test, test_size=0.5, random_state=42)"
   ]
  },
  {
   "cell_type": "code",
   "execution_count": 7,
   "metadata": {},
   "outputs": [],
   "source": [
    "X_train_tensor = torch.tensor(X_train, dtype=torch.float32)\n",
    "X_test_tensor = torch.tensor(X_test, dtype=torch.float32)\n",
    "X_val_tensor = torch.tensor(X_val, dtype=torch.float32)\n",
    "y_train_tensor = torch.tensor(y_train, dtype=torch.long)\n",
    "y_test_tensor = torch.tensor(y_test, dtype=torch.long)\n",
    "y_val_tensor = torch.tensor(y_val, dtype=torch.long)"
   ]
  },
  {
   "cell_type": "code",
   "execution_count": 8,
   "metadata": {},
   "outputs": [
    {
     "name": "stderr",
     "output_type": "stream",
     "text": [
      "c:\\Users\\bianc\\Desktop\\Chatbot-NLP\\.venv\\lib\\site-packages\\tqdm\\auto.py:21: TqdmWarning: IProgress not found. Please update jupyter and ipywidgets. See https://ipywidgets.readthedocs.io/en/stable/user_install.html\n",
      "  from .autonotebook import tqdm as notebook_tqdm\n"
     ]
    },
    {
     "name": "stdout",
     "output_type": "stream",
     "text": [
      "Epoch 1/100, Loss: 9.648955583572388\n",
      "Epoch 1/100, Train Loss: 9.648955583572388, Val Loss: 1.2738441228866577\n",
      "Epoch 2/100, Loss: 6.693300187587738\n",
      "Epoch 2/100, Train Loss: 6.693300187587738, Val Loss: 0.96823650598526\n",
      "Epoch 3/100, Loss: 4.968461334705353\n",
      "Epoch 3/100, Train Loss: 4.968461334705353, Val Loss: 0.8387944102287292\n",
      "Epoch 4/100, Loss: 3.6320778131484985\n",
      "Epoch 4/100, Train Loss: 3.6320778131484985, Val Loss: 0.6052746176719666\n",
      "Epoch 5/100, Loss: 2.6584367156028748\n",
      "Epoch 5/100, Train Loss: 2.6584367156028748, Val Loss: 0.48904258012771606\n",
      "Epoch 6/100, Loss: 1.8282427489757538\n",
      "Epoch 6/100, Train Loss: 1.8282427489757538, Val Loss: 0.3664780855178833\n",
      "Epoch 7/100, Loss: 1.2932366281747818\n",
      "Epoch 7/100, Train Loss: 1.2932366281747818, Val Loss: 0.2942621409893036\n",
      "Epoch 8/100, Loss: 0.8699183240532875\n",
      "Epoch 8/100, Train Loss: 0.8699183240532875, Val Loss: 0.2350521832704544\n",
      "Epoch 9/100, Loss: 0.6180780231952667\n",
      "Epoch 9/100, Train Loss: 0.6180780231952667, Val Loss: 0.19982418417930603\n",
      "Epoch 10/100, Loss: 0.446713425219059\n",
      "Epoch 10/100, Train Loss: 0.446713425219059, Val Loss: 0.17435120046138763\n",
      "Epoch 11/100, Loss: 0.33420873433351517\n",
      "Epoch 11/100, Train Loss: 0.33420873433351517, Val Loss: 0.15707848966121674\n",
      "Epoch 12/100, Loss: 0.25883400812745094\n",
      "Epoch 12/100, Train Loss: 0.25883400812745094, Val Loss: 0.14483420550823212\n",
      "Epoch 13/100, Loss: 0.20394985377788544\n",
      "Epoch 13/100, Train Loss: 0.20394985377788544, Val Loss: 0.1342996060848236\n",
      "Epoch 14/100, Loss: 0.16133146174252033\n",
      "Epoch 14/100, Train Loss: 0.16133146174252033, Val Loss: 0.12889614701271057\n",
      "Epoch 15/100, Loss: 0.12939521484076977\n",
      "Epoch 15/100, Train Loss: 0.12939521484076977, Val Loss: 0.12265006452798843\n",
      "Epoch 16/100, Loss: 0.10523733962327242\n",
      "Epoch 16/100, Train Loss: 0.10523733962327242, Val Loss: 0.1190176010131836\n",
      "Epoch 17/100, Loss: 0.08580705802887678\n",
      "Epoch 17/100, Train Loss: 0.08580705802887678, Val Loss: 0.11703146994113922\n",
      "Epoch 18/100, Loss: 0.0705658420920372\n",
      "Epoch 18/100, Train Loss: 0.0705658420920372, Val Loss: 0.11455991864204407\n",
      "Epoch 19/100, Loss: 0.05871135229244828\n",
      "Epoch 19/100, Train Loss: 0.05871135229244828, Val Loss: 0.11396481841802597\n",
      "Epoch 20/100, Loss: 0.04915440222248435\n",
      "Epoch 20/100, Train Loss: 0.04915440222248435, Val Loss: 0.11377665400505066\n",
      "Epoch 21/100, Loss: 0.04149264004081488\n",
      "Epoch 21/100, Train Loss: 0.04149264004081488, Val Loss: 0.11291399598121643\n",
      "Epoch 22/100, Loss: 0.03541495464742184\n",
      "Epoch 22/100, Train Loss: 0.03541495464742184, Val Loss: 0.11336448043584824\n",
      "Epoch 23/100, Loss: 0.030468070413917303\n",
      "Epoch 23/100, Train Loss: 0.030468070413917303, Val Loss: 0.11418171972036362\n",
      "Epoch 24/100, Loss: 0.026419347152113914\n",
      "Epoch 24/100, Train Loss: 0.026419347152113914, Val Loss: 0.1144416332244873\n",
      "Early stopping! No improvement in validation loss.\n"
     ]
    }
   ],
   "source": [
    "model = train(X_train_tensor, y_train_tensor, X_val_tensor, y_val_tensor, len(df[\"Intenção\"].unique()), num_epochs=100, patience=3)"
   ]
  },
  {
   "cell_type": "code",
   "execution_count": 9,
   "metadata": {},
   "outputs": [
    {
     "name": "stdout",
     "output_type": "stream",
     "text": [
      "              precision    recall  f1-score   support\n",
      "\n",
      "           0       1.00      1.00      1.00        16\n",
      "           1       0.94      1.00      0.97        17\n",
      "           2       1.00      1.00      1.00        14\n",
      "           3       1.00      0.93      0.97        15\n",
      "\n",
      "    accuracy                           0.98        62\n",
      "   macro avg       0.99      0.98      0.98        62\n",
      "weighted avg       0.98      0.98      0.98        62\n",
      "\n"
     ]
    }
   ],
   "source": [
    "test(model, X_test_tensor, y_test_tensor)"
   ]
  },
  {
   "cell_type": "code",
   "execution_count": null,
   "metadata": {},
   "outputs": [],
   "source": []
  }
 ],
 "metadata": {
  "kernelspec": {
   "display_name": ".venv",
   "language": "python",
   "name": "python3"
  },
  "language_info": {
   "codemirror_mode": {
    "name": "ipython",
    "version": 3
   },
   "file_extension": ".py",
   "mimetype": "text/x-python",
   "name": "python",
   "nbconvert_exporter": "python",
   "pygments_lexer": "ipython3",
   "version": "3.10.11"
  }
 },
 "nbformat": 4,
 "nbformat_minor": 2
}
