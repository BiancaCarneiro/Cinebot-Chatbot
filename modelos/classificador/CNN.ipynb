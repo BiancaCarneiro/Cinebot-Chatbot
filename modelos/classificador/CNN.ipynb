{
 "cells": [
  {
   "cell_type": "markdown",
   "metadata": {},
   "source": [
    "# Imports"
   ]
  },
  {
   "cell_type": "code",
   "execution_count": 1,
   "metadata": {},
   "outputs": [
    {
     "name": "stderr",
     "output_type": "stream",
     "text": [
      "[nltk_data] Downloading package punkt to\n",
      "[nltk_data]     C:\\Users\\bianc\\AppData\\Roaming\\nltk_data...\n",
      "[nltk_data]   Package punkt is already up-to-date!\n",
      "[nltk_data] Downloading package stopwords to\n",
      "[nltk_data]     C:\\Users\\bianc\\AppData\\Roaming\\nltk_data...\n",
      "[nltk_data]   Package stopwords is already up-to-date!\n"
     ]
    },
    {
     "data": {
      "text/plain": [
       "True"
      ]
     },
     "execution_count": 1,
     "metadata": {},
     "output_type": "execute_result"
    }
   ],
   "source": [
    "import pandas as pd\n",
    "import sys\n",
    "sys.path.insert(0, '../')\n",
    "\n",
    "import random\n",
    "import nltk # pip3 install nltk\n",
    "from common import *\n",
    "from sklearn.feature_extraction.text import CountVectorizer\n",
    "from sklearn.model_selection import train_test_split\n",
    "from sklearn.preprocessing import LabelEncoder\n",
    "from CNN_model import *\n",
    "\n",
    "random.seed(42)\n",
    "nltk.download('punkt')\n",
    "nltk.download('stopwords')"
   ]
  },
  {
   "cell_type": "code",
   "execution_count": 2,
   "metadata": {},
   "outputs": [],
   "source": [
    "PATH_DATASET = \"../../datasets/conversas_filmes.csv\""
   ]
  },
  {
   "cell_type": "code",
   "execution_count": 3,
   "metadata": {},
   "outputs": [
    {
     "data": {
      "text/html": [
       "<div>\n",
       "<style scoped>\n",
       "    .dataframe tbody tr th:only-of-type {\n",
       "        vertical-align: middle;\n",
       "    }\n",
       "\n",
       "    .dataframe tbody tr th {\n",
       "        vertical-align: top;\n",
       "    }\n",
       "\n",
       "    .dataframe thead th {\n",
       "        text-align: right;\n",
       "    }\n",
       "</style>\n",
       "<table border=\"1\" class=\"dataframe\">\n",
       "  <thead>\n",
       "    <tr style=\"text-align: right;\">\n",
       "      <th></th>\n",
       "      <th>Conversa</th>\n",
       "      <th>Intenção</th>\n",
       "    </tr>\n",
       "  </thead>\n",
       "  <tbody>\n",
       "    <tr>\n",
       "      <th>0</th>\n",
       "      <td>Quais são os filmes em cartaz?</td>\n",
       "      <td>Assistir filme</td>\n",
       "    </tr>\n",
       "    <tr>\n",
       "      <th>1</th>\n",
       "      <td>Onde posso comprar ingressos para os filmes de...</td>\n",
       "      <td>Comprar ingresso</td>\n",
       "    </tr>\n",
       "    <tr>\n",
       "      <th>2</th>\n",
       "      <td>Gostaria de saber mais sobre o filme \"Aventura...</td>\n",
       "      <td>Detalhes do filme</td>\n",
       "    </tr>\n",
       "    <tr>\n",
       "      <th>3</th>\n",
       "      <td>Quando é a próxima sessão de \"Viagem Espacial\"?</td>\n",
       "      <td>Checar sessões</td>\n",
       "    </tr>\n",
       "    <tr>\n",
       "      <th>4</th>\n",
       "      <td>Qual é o melhor filme em exibição agora?</td>\n",
       "      <td>Assistir filme</td>\n",
       "    </tr>\n",
       "  </tbody>\n",
       "</table>\n",
       "</div>"
      ],
      "text/plain": [
       "                                            Conversa           Intenção\n",
       "0                     Quais são os filmes em cartaz?     Assistir filme\n",
       "1  Onde posso comprar ingressos para os filmes de...   Comprar ingresso\n",
       "2  Gostaria de saber mais sobre o filme \"Aventura...  Detalhes do filme\n",
       "3    Quando é a próxima sessão de \"Viagem Espacial\"?     Checar sessões\n",
       "4           Qual é o melhor filme em exibição agora?     Assistir filme"
      ]
     },
     "execution_count": 3,
     "metadata": {},
     "output_type": "execute_result"
    }
   ],
   "source": [
    "df = pd.read_csv(PATH_DATASET)\n",
    "df.head()"
   ]
  },
  {
   "cell_type": "markdown",
   "metadata": {},
   "source": [
    "# Treinando a CNN"
   ]
  },
  {
   "cell_type": "code",
   "execution_count": 4,
   "metadata": {},
   "outputs": [],
   "source": [
    "vectorizer = CountVectorizer()\n",
    "X = vectorizer.fit_transform(df[\"Conversa\"]).toarray()"
   ]
  },
  {
   "cell_type": "code",
   "execution_count": 5,
   "metadata": {},
   "outputs": [],
   "source": [
    "label_encoder = LabelEncoder()\n",
    "y = label_encoder.fit_transform(df[\"Intenção\"])"
   ]
  },
  {
   "cell_type": "code",
   "execution_count": 9,
   "metadata": {},
   "outputs": [],
   "source": [
    "X_train, X_test, y_train, y_test = train_test_split(X, y, test_size=0.3, random_state=42)\n",
    "X_val, X_test, y_val, y_test = train_test_split(X_test, y_test, test_size=0.5, random_state=42)"
   ]
  },
  {
   "cell_type": "code",
   "execution_count": 10,
   "metadata": {},
   "outputs": [],
   "source": [
    "X_train_tensor = torch.tensor(X_train, dtype=torch.float32)\n",
    "X_test_tensor = torch.tensor(X_test, dtype=torch.float32)\n",
    "X_val_tensor = torch.tensor(X_val, dtype=torch.float32)\n",
    "y_train_tensor = torch.tensor(y_train, dtype=torch.long)\n",
    "y_test_tensor = torch.tensor(y_test, dtype=torch.long)\n",
    "y_val_tensor = torch.tensor(y_val, dtype=torch.long)"
   ]
  },
  {
   "cell_type": "code",
   "execution_count": 11,
   "metadata": {},
   "outputs": [
    {
     "name": "stdout",
     "output_type": "stream",
     "text": [
      "Epoch 1/25, Loss: 7.461852669715881\n",
      "Epoch 1/25, Train Loss: 7.461852669715881, Val Loss: 1.1775306463241577\n",
      "Epoch 2/25, Loss: 4.731750011444092\n",
      "Epoch 2/25, Train Loss: 4.731750011444092, Val Loss: 0.7141218781471252\n",
      "Epoch 3/25, Loss: 2.948422610759735\n",
      "Epoch 3/25, Train Loss: 2.948422610759735, Val Loss: 0.4619412124156952\n",
      "Epoch 4/25, Loss: 1.7401905953884125\n",
      "Epoch 4/25, Train Loss: 1.7401905953884125, Val Loss: 0.3432902991771698\n",
      "Epoch 5/25, Loss: 0.9376279711723328\n",
      "Epoch 5/25, Train Loss: 0.9376279711723328, Val Loss: 0.2514171302318573\n",
      "Epoch 6/25, Loss: 0.6119463741779327\n",
      "Epoch 6/25, Train Loss: 0.6119463741779327, Val Loss: 0.19743306934833527\n",
      "Epoch 7/25, Loss: 0.3943830765783787\n",
      "Epoch 7/25, Train Loss: 0.3943830765783787, Val Loss: 0.16659416258335114\n",
      "Epoch 8/25, Loss: 0.2725959047675133\n",
      "Epoch 8/25, Train Loss: 0.2725959047675133, Val Loss: 0.15699967741966248\n",
      "Epoch 9/25, Loss: 0.20329341292381287\n",
      "Epoch 9/25, Train Loss: 0.20329341292381287, Val Loss: 0.1398376226425171\n",
      "Epoch 10/25, Loss: 0.15789426490664482\n",
      "Epoch 10/25, Train Loss: 0.15789426490664482, Val Loss: 0.1308203935623169\n",
      "Epoch 11/25, Loss: 0.12526609003543854\n",
      "Epoch 11/25, Train Loss: 0.12526609003543854, Val Loss: 0.12860247492790222\n",
      "Epoch 12/25, Loss: 0.10154262185096741\n",
      "Epoch 12/25, Train Loss: 0.10154262185096741, Val Loss: 0.12557512521743774\n",
      "Epoch 13/25, Loss: 0.08396200370043516\n",
      "Epoch 13/25, Train Loss: 0.08396200370043516, Val Loss: 0.12063160538673401\n",
      "Epoch 14/25, Loss: 0.07063717395067215\n",
      "Epoch 14/25, Train Loss: 0.07063717395067215, Val Loss: 0.11768486350774765\n",
      "Epoch 15/25, Loss: 0.05992514081299305\n",
      "Epoch 15/25, Train Loss: 0.05992514081299305, Val Loss: 0.1162085309624672\n",
      "Epoch 16/25, Loss: 0.05096650077030063\n",
      "Epoch 16/25, Train Loss: 0.05096650077030063, Val Loss: 0.11507636308670044\n",
      "Epoch 17/25, Loss: 0.0435960297472775\n",
      "Epoch 17/25, Train Loss: 0.0435960297472775, Val Loss: 0.11353333294391632\n",
      "Epoch 18/25, Loss: 0.03738343762233853\n",
      "Epoch 18/25, Train Loss: 0.03738343762233853, Val Loss: 0.11174462735652924\n",
      "Epoch 19/25, Loss: 0.03215999295935035\n",
      "Epoch 19/25, Train Loss: 0.03215999295935035, Val Loss: 0.11016727983951569\n",
      "Epoch 20/25, Loss: 0.027751609915867448\n",
      "Epoch 20/25, Train Loss: 0.027751609915867448, Val Loss: 0.10910488665103912\n",
      "Epoch 21/25, Loss: 0.02402097126469016\n",
      "Epoch 21/25, Train Loss: 0.02402097126469016, Val Loss: 0.10846255719661713\n",
      "Epoch 22/25, Loss: 0.020870497450232506\n",
      "Epoch 22/25, Train Loss: 0.020870497450232506, Val Loss: 0.10796984285116196\n",
      "Epoch 23/25, Loss: 0.018213931005448103\n",
      "Epoch 23/25, Train Loss: 0.018213931005448103, Val Loss: 0.10746808350086212\n",
      "Epoch 24/25, Loss: 0.01597289531491697\n",
      "Epoch 24/25, Train Loss: 0.01597289531491697, Val Loss: 0.1069650799036026\n",
      "Epoch 25/25, Loss: 0.014080969500355422\n",
      "Epoch 25/25, Train Loss: 0.014080969500355422, Val Loss: 0.10651945322751999\n"
     ]
    }
   ],
   "source": [
    "model = train(X_train_tensor, y_train_tensor, X_val_tensor, y_val_tensor, len(df[\"Intenção\"].unique()), num_epochs=25)"
   ]
  },
  {
   "cell_type": "code",
   "execution_count": 12,
   "metadata": {},
   "outputs": [
    {
     "name": "stdout",
     "output_type": "stream",
     "text": [
      "              precision    recall  f1-score   support\n",
      "\n",
      "           0       1.00      1.00      1.00        16\n",
      "           1       0.94      1.00      0.97        17\n",
      "           2       1.00      1.00      1.00        14\n",
      "           3       1.00      0.93      0.97        15\n",
      "\n",
      "    accuracy                           0.98        62\n",
      "   macro avg       0.99      0.98      0.98        62\n",
      "weighted avg       0.98      0.98      0.98        62\n",
      "\n"
     ]
    }
   ],
   "source": [
    "test(model, X_test_tensor, y_test_tensor)"
   ]
  },
  {
   "cell_type": "code",
   "execution_count": null,
   "metadata": {},
   "outputs": [],
   "source": []
  }
 ],
 "metadata": {
  "kernelspec": {
   "display_name": ".venv",
   "language": "python",
   "name": "python3"
  },
  "language_info": {
   "codemirror_mode": {
    "name": "ipython",
    "version": 3
   },
   "file_extension": ".py",
   "mimetype": "text/x-python",
   "name": "python",
   "nbconvert_exporter": "python",
   "pygments_lexer": "ipython3",
   "version": "3.10.11"
  }
 },
 "nbformat": 4,
 "nbformat_minor": 2
}
